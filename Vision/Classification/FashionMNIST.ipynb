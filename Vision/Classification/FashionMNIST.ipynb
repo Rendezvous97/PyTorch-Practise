{
 "cells": [
  {
   "cell_type": "code",
   "execution_count": 115,
   "metadata": {},
   "outputs": [],
   "source": [
    "import torch\n",
    "import torchvision\n",
    "from torch.utils.data import DataLoader\n",
    "from torchvision.transforms import ToTensor, Lambda\n",
    "from torch import nn\n",
    "import numpy\n",
    "import matplotlib.pyplot as plt\n",
    "import random\n",
    "\n",
    "%matplotlib inline"
   ]
  },
  {
   "cell_type": "markdown",
   "metadata": {},
   "source": [
    "# Checking for GPU"
   ]
  },
  {
   "cell_type": "code",
   "execution_count": 116,
   "metadata": {},
   "outputs": [],
   "source": [
    "if torch.backends.mps.is_available():\n",
    "    device = 'mps'\n",
    "else:\n",
    "    device = 'cpu'"
   ]
  },
  {
   "cell_type": "markdown",
   "metadata": {},
   "source": [
    "# Loading a Dataset with Transform & Target Transform"
   ]
  },
  {
   "cell_type": "code",
   "execution_count": 117,
   "metadata": {},
   "outputs": [],
   "source": [
    "train_data = torchvision.datasets.FashionMNIST(root=\"fashionmnist-data\",\n",
    "                                               train=True,\n",
    "                                               download=True,\n",
    "                                               transform=ToTensor(),\n",
    "                                               target_transform=Lambda(lambda y: torch.zeros(10, dtype=torch.float).scatter_(0, torch.tensor(y), value=1))\n",
    "                                               )\n",
    "\n",
    "test_data = torchvision.datasets.FashionMNIST(root=\"fashionmnist-data\",\n",
    "                                               train=False,\n",
    "                                               download=True,\n",
    "                                               transform=ToTensor(),\n",
    "                                               target_transform=Lambda(lambda y: torch.zeros(10, dtype=torch.float).scatter_(0, torch.tensor(y), value=1))\n",
    "                                               )"
   ]
  },
  {
   "cell_type": "markdown",
   "metadata": {},
   "source": [
    "# Visualize Data in Dataset"
   ]
  },
  {
   "cell_type": "code",
   "execution_count": 118,
   "metadata": {},
   "outputs": [
    {
     "name": "stdout",
     "output_type": "stream",
     "text": [
      "torch.Size([1, 28, 28])\n",
      "torch.Size([1, 28, 28])\n",
      "torch.Size([1, 28, 28])\n",
      "torch.Size([1, 28, 28])\n",
      "torch.Size([1, 28, 28])\n",
      "torch.Size([1, 28, 28])\n",
      "torch.Size([1, 28, 28])\n",
      "torch.Size([1, 28, 28])\n",
      "torch.Size([1, 28, 28])\n"
     ]
    },
    {
     "data": {
      "image/png": "[encoded data removed]",
      "text/plain": [
       "<Figure size 500x500 with 9 Axes>"
      ]
     },
     "metadata": {},
     "output_type": "display_data"
    }
   ],
   "source": [
    "figure = plt.figure(figsize=(5,5))\n",
    "col, row = 3, 3\n",
    "\n",
    "for i in range(1, col*row + 1):\n",
    "    sample_ix = torch.randint(len(train_data), size=(1,)).item()\n",
    "    figure.add_subplot(row, col, i)\n",
    "    plt.imshow(train_data[sample_ix][0].squeeze(), cmap='gray')\n",
    "    print(train_data[sample_ix][0].shape)"
   ]
  },
  {
   "cell_type": "markdown",
   "metadata": {},
   "source": [
    "# Preparing your data for training with DataLoaders"
   ]
  },
  {
   "cell_type": "code",
   "execution_count": 119,
   "metadata": {},
   "outputs": [],
   "source": [
    "train_dataloader = DataLoader(dataset=train_data, batch_size=64, shuffle=True)\n",
    "test_dataloader = DataLoader(dataset=test_data, batch_size=64, shuffle=True)"
   ]
  },
  {
   "cell_type": "markdown",
   "metadata": {},
   "source": [
    "# Creating the Model"
   ]
  },
  {
   "cell_type": "code",
   "execution_count": 120,
   "metadata": {},
   "outputs": [],
   "source": [
    "class NeuralNetwork(nn.Module):\n",
    "    def __init__(self):\n",
    "        super().__init__()\n",
    "        self.all_layers = nn.Sequential(\n",
    "            nn.Flatten(),\n",
    "            nn.Linear(28*28, 512),\n",
    "            nn.ReLU(),\n",
    "            nn.Linear(512, 512),\n",
    "            nn.ReLU(),\n",
    "            nn.Linear(512, 10)\n",
    "        )\n",
    "    \n",
    "    def forward(self, x):\n",
    "        x = self.all_layers(x)\n",
    "        return x"
   ]
  },
  {
   "cell_type": "markdown",
   "metadata": {},
   "source": [
    "# Making Model Instance"
   ]
  },
  {
   "cell_type": "code",
   "execution_count": 121,
   "metadata": {},
   "outputs": [],
   "source": [
    "model = NeuralNetwork().to(device)"
   ]
  },
  {
   "cell_type": "markdown",
   "metadata": {},
   "source": [
    "# Making Training & Testing Loops"
   ]
  },
  {
   "cell_type": "code",
   "execution_count": 133,
   "metadata": {},
   "outputs": [],
   "source": [
    "def train(dataloader, model, loss_fn, optimizer):\n",
    "\n",
    "    model.train()\n",
    "\n",
    "    for batch, (X, y) in enumerate(dataloader):\n",
    "\n",
    "        sz = len(dataloader.dataset)\n",
    "        X, y = X.to(device), y.to(device)\n",
    "\n",
    "        preds = model(X)\n",
    "        loss = loss_fn(preds, y)\n",
    "\n",
    "        optimizer.zero_grad()\n",
    "        loss.backward()\n",
    "        optimizer.step()\n",
    "\n",
    "        loss, current = loss.item(), (batch + 1)*len(X)\n",
    "\n",
    "        if batch%100 == 0:\n",
    "            print(f\"Loss: {loss:>.4f} {current}/{sz}\")\n",
    "\n",
    "\n",
    "def test(dataloader, model, loss_fn):\n",
    "\n",
    "    model.eval()\n",
    "    test_loss, correct = 0, 0\n",
    "    num_batches = len(dataloader)\n",
    "    sz = len(dataloader.dataset)\n",
    "\n",
    "    with torch.no_grad():\n",
    "\n",
    "        for batch, (X, y) in enumerate(dataloader):\n",
    "\n",
    "            \n",
    "            X, y = X.to(device), y.to(device)\n",
    "            preds = model(X)\n",
    "            test_loss += loss_fn(preds, y).item()\n",
    "            correct += (preds.argmax(1) == y.argmax(1)).type(torch.float).sum().item()\n",
    "            # print(correct)\n",
    "\n",
    "        print(f\"Average Test Loss: {test_loss/num_batches:>4f} | Average Accuracy: {(correct/len(dataloader.dataset))*100:>2f}%\")\n",
    "\n",
    "\n",
    "\n"
   ]
  },
  {
   "cell_type": "markdown",
   "metadata": {},
   "source": [
    "# Choosing Model Parameters"
   ]
  },
  {
   "cell_type": "code",
   "execution_count": 135,
   "metadata": {},
   "outputs": [],
   "source": [
    "loss_fn = nn.CrossEntropyLoss()\n",
    "learning_rate = 1e-3\n",
    "optimizer = torch.optim.SGD(model.parameters(), lr=learning_rate)\n",
    "epoch = 10"
   ]
  },
  {
   "cell_type": "code",
   "execution_count": 137,
   "metadata": {},
   "outputs": [
    {
     "name": "stdout",
     "output_type": "stream",
     "text": [
      "\n",
      "------------------------------------\n",
      "Epoch 1\n",
      "------------------------------------ \n",
      "Loss: 0.6151 64/60000\n",
      "Loss: 0.6723 6464/60000\n",
      "Loss: 0.7242 12864/60000\n",
      "Loss: 0.5689 19264/60000\n",
      "Loss: 0.7670 25664/60000\n",
      "Loss: 0.7982 32064/60000\n",
      "Loss: 0.6437 38464/60000\n",
      "Loss: 0.7383 44864/60000\n",
      "Loss: 0.6869 51264/60000\n",
      "Loss: 0.4434 57664/60000\n",
      "Average Test Loss: 0.674191 | Average Accuracy: 75.850000%\n",
      "\n",
      "------------------------------------\n",
      "Epoch 2\n",
      "------------------------------------ \n",
      "Loss: 0.7982 64/60000\n",
      "Loss: 0.6404 6464/60000\n",
      "Loss: 0.7136 12864/60000\n",
      "Loss: 0.8322 19264/60000\n",
      "Loss: 0.5403 25664/60000\n",
      "Loss: 0.6750 32064/60000\n",
      "Loss: 0.5875 38464/60000\n",
      "Loss: 0.6037 44864/60000\n",
      "Loss: 0.6151 51264/60000\n",
      "Loss: 0.5115 57664/60000\n",
      "Average Test Loss: 0.660897 | Average Accuracy: 76.610000%\n",
      "\n",
      "------------------------------------\n",
      "Epoch 3\n",
      "------------------------------------ \n",
      "Loss: 0.6206 64/60000\n",
      "Loss: 0.5897 6464/60000\n",
      "Loss: 0.6770 12864/60000\n",
      "Loss: 0.5665 19264/60000\n",
      "Loss: 0.6255 25664/60000\n",
      "Loss: 0.6338 32064/60000\n",
      "Loss: 0.7599 38464/60000\n",
      "Loss: 0.6663 44864/60000\n",
      "Loss: 0.5774 51264/60000\n",
      "Loss: 0.5500 57664/60000\n",
      "Average Test Loss: 0.650186 | Average Accuracy: 77.050000%\n",
      "\n",
      "------------------------------------\n",
      "Epoch 4\n",
      "------------------------------------ \n",
      "Loss: 0.6918 64/60000\n",
      "Loss: 0.5182 6464/60000\n",
      "Loss: 0.8374 12864/60000\n",
      "Loss: 0.5636 19264/60000\n",
      "Loss: 0.7986 25664/60000\n",
      "Loss: 0.5178 32064/60000\n",
      "Loss: 0.6407 38464/60000\n",
      "Loss: 0.6410 44864/60000\n",
      "Loss: 0.5708 51264/60000\n",
      "Loss: 0.4326 57664/60000\n",
      "Average Test Loss: 0.639169 | Average Accuracy: 77.640000%\n",
      "\n",
      "------------------------------------\n",
      "Epoch 5\n",
      "------------------------------------ \n",
      "Loss: 0.4954 64/60000\n",
      "Loss: 0.6759 6464/60000\n",
      "Loss: 0.5228 12864/60000\n",
      "Loss: 0.6458 19264/60000\n",
      "Loss: 0.6928 25664/60000\n",
      "Loss: 0.6280 32064/60000\n",
      "Loss: 0.5726 38464/60000\n",
      "Loss: 0.6798 44864/60000\n",
      "Loss: 0.5361 51264/60000\n",
      "Loss: 0.7378 57664/60000\n",
      "Average Test Loss: 0.627836 | Average Accuracy: 78.000000%\n",
      "\n",
      "------------------------------------\n",
      "Epoch 6\n",
      "------------------------------------ \n",
      "Loss: 0.5886 64/60000\n",
      "Loss: 0.7341 6464/60000\n",
      "Loss: 0.6160 12864/60000\n",
      "Loss: 0.6470 19264/60000\n",
      "Loss: 0.6796 25664/60000\n",
      "Loss: 0.6080 32064/60000\n",
      "Loss: 0.5704 38464/60000\n",
      "Loss: 0.5549 44864/60000\n",
      "Loss: 0.5439 51264/60000\n",
      "Loss: 0.5852 57664/60000\n",
      "Average Test Loss: 0.619354 | Average Accuracy: 78.510000%\n",
      "\n",
      "------------------------------------\n",
      "Epoch 7\n",
      "------------------------------------ \n",
      "Loss: 0.7476 64/60000\n",
      "Loss: 0.4557 6464/60000\n",
      "Loss: 0.6642 12864/60000\n",
      "Loss: 0.5151 19264/60000\n",
      "Loss: 0.4991 25664/60000\n",
      "Loss: 0.7768 32064/60000\n",
      "Loss: 0.4144 38464/60000\n",
      "Loss: 0.4486 44864/60000\n",
      "Loss: 0.6992 51264/60000\n",
      "Loss: 0.5403 57664/60000\n",
      "Average Test Loss: 0.608825 | Average Accuracy: 78.840000%\n",
      "\n",
      "------------------------------------\n",
      "Epoch 8\n",
      "------------------------------------ \n",
      "Loss: 0.6658 64/60000\n",
      "Loss: 0.5230 6464/60000\n",
      "Loss: 0.5751 12864/60000\n",
      "Loss: 0.7754 19264/60000\n",
      "Loss: 0.6968 25664/60000\n",
      "Loss: 0.3199 32064/60000\n",
      "Loss: 0.6463 38464/60000\n",
      "Loss: 0.8996 44864/60000\n",
      "Loss: 0.7142 51264/60000\n",
      "Loss: 0.5156 57664/60000\n",
      "Average Test Loss: 0.599374 | Average Accuracy: 79.190000%\n",
      "\n",
      "------------------------------------\n",
      "Epoch 9\n",
      "------------------------------------ \n",
      "Loss: 0.5677 64/60000\n",
      "Loss: 0.6225 6464/60000\n",
      "Loss: 0.5252 12864/60000\n",
      "Loss: 0.5244 19264/60000\n",
      "Loss: 0.6530 25664/60000\n",
      "Loss: 0.5267 32064/60000\n",
      "Loss: 0.5207 38464/60000\n",
      "Loss: 0.6077 44864/60000\n",
      "Loss: 0.5029 51264/60000\n",
      "Loss: 0.5741 57664/60000\n",
      "Average Test Loss: 0.592683 | Average Accuracy: 79.200000%\n",
      "\n",
      "------------------------------------\n",
      "Epoch 10\n",
      "------------------------------------ \n",
      "Loss: 0.5902 64/60000\n",
      "Loss: 0.5753 6464/60000\n",
      "Loss: 0.6748 12864/60000\n",
      "Loss: 0.5542 19264/60000\n",
      "Loss: 0.4416 25664/60000\n",
      "Loss: 0.4915 32064/60000\n",
      "Loss: 0.4903 38464/60000\n",
      "Loss: 0.5004 44864/60000\n",
      "Loss: 0.5487 51264/60000\n",
      "Loss: 0.6208 57664/60000\n",
      "Average Test Loss: 0.584403 | Average Accuracy: 79.550000%\n",
      "Done!\n"
     ]
    }
   ],
   "source": [
    "for i in range(epoch):\n",
    "    print(f\"\\n------------------------------------\\nEpoch {i + 1}\\n------------------------------------ \")\n",
    "    train(train_dataloader, model, loss_fn, optimizer)\n",
    "    test(test_dataloader, model, loss_fn)\n",
    "print(\"Done!\")"
   ]
  },
  {
   "cell_type": "markdown",
   "metadata": {},
   "source": [
    "# Saving Model Weights"
   ]
  },
  {
   "cell_type": "code",
   "execution_count": 138,
   "metadata": {},
   "outputs": [],
   "source": [
    "wts = torch.save(model.state_dict(), \"fashnionmnist_mdl_wts.pth\")"
   ]
  },
  {
   "cell_type": "code",
   "execution_count": 139,
   "metadata": {},
   "outputs": [],
   "source": [
    "saved_model = torch.save(model, \"fashionmnist_mdl.pth\")"
   ]
  },
  {
   "cell_type": "markdown",
   "metadata": {},
   "source": [
    "# Loading Model & Weights"
   ]
  },
  {
   "cell_type": "code",
   "execution_count": 140,
   "metadata": {},
   "outputs": [],
   "source": [
    "new_model = torch.load(\"fashionmnist_mdl.pth\")"
   ]
  },
  {
   "cell_type": "code",
   "execution_count": 141,
   "metadata": {},
   "outputs": [
    {
     "data": {
      "text/plain": [
       "NeuralNetwork(\n",
       "  (all_layers): Sequential(\n",
       "    (0): Flatten(start_dim=1, end_dim=-1)\n",
       "    (1): Linear(in_features=784, out_features=512, bias=True)\n",
       "    (2): ReLU()\n",
       "    (3): Linear(in_features=512, out_features=512, bias=True)\n",
       "    (4): ReLU()\n",
       "    (5): Linear(in_features=512, out_features=10, bias=True)\n",
       "  )\n",
       ")"
      ]
     },
     "execution_count": 141,
     "metadata": {},
     "output_type": "execute_result"
    }
   ],
   "source": [
    "new_model"
   ]
  },
  {
   "cell_type": "code",
   "execution_count": 148,
   "metadata": {},
   "outputs": [
    {
     "name": "stdout",
     "output_type": "stream",
     "text": [
      "Name: all_layers.1.weight | size: torch.Size([512, 784]) | parameters: tensor([[-0.0241, -0.0282,  0.0092,  ..., -0.0356, -0.0039, -0.0017],\n",
      "        [-0.0355,  0.0289, -0.0247,  ...,  0.0270, -0.0182,  0.0246]],\n",
      "       device='mps:0', grad_fn=<SliceBackward0>)\n",
      "Name: all_layers.1.bias | size: torch.Size([512]) | parameters: tensor([ 0.0332, -0.0192], device='mps:0', grad_fn=<SliceBackward0>)\n",
      "Name: all_layers.3.weight | size: torch.Size([512, 512]) | parameters: tensor([[ 0.0409, -0.0048, -0.0212,  ...,  0.0294,  0.0511, -0.0280],\n",
      "        [ 0.0128,  0.0335, -0.0181,  ...,  0.0140,  0.0091, -0.0294]],\n",
      "       device='mps:0', grad_fn=<SliceBackward0>)\n",
      "Name: all_layers.3.bias | size: torch.Size([512]) | parameters: tensor([-0.0578,  0.0352], device='mps:0', grad_fn=<SliceBackward0>)\n",
      "Name: all_layers.5.weight | size: torch.Size([10, 512]) | parameters: tensor([[-0.0371, -0.0828, -0.0007,  ...,  0.0144, -0.0937,  0.0073],\n",
      "        [ 0.0582, -0.0372,  0.0560,  ..., -0.0901,  0.0640, -0.1718]],\n",
      "       device='mps:0', grad_fn=<SliceBackward0>)\n",
      "Name: all_layers.5.bias | size: torch.Size([10]) | parameters: tensor([0.0370, 0.0206], device='mps:0', grad_fn=<SliceBackward0>)\n"
     ]
    }
   ],
   "source": [
    "for name, para in model.named_parameters():\n",
    "    print(f\"Name: {name} | size: {para.size()} | parameters: {para[:2]}\")"
   ]
  },
  {
   "cell_type": "code",
   "execution_count": 153,
   "metadata": {},
   "outputs": [
    {
     "name": "stdout",
     "output_type": "stream",
     "text": [
      "Name: all_layers.1.weight | size: torch.Size([512, 784]) | parameters: tensor([[-0.0241, -0.0282,  0.0092,  ..., -0.0356, -0.0039, -0.0017],\n",
      "        [-0.0355,  0.0289, -0.0247,  ...,  0.0270, -0.0182,  0.0246]],\n",
      "       device='mps:0', grad_fn=<SliceBackward0>)\n",
      "Name: all_layers.1.bias | size: torch.Size([512]) | parameters: tensor([ 0.0332, -0.0192], device='mps:0', grad_fn=<SliceBackward0>)\n",
      "Name: all_layers.3.weight | size: torch.Size([512, 512]) | parameters: tensor([[ 0.0409, -0.0048, -0.0212,  ...,  0.0294,  0.0511, -0.0280],\n",
      "        [ 0.0128,  0.0335, -0.0181,  ...,  0.0140,  0.0091, -0.0294]],\n",
      "       device='mps:0', grad_fn=<SliceBackward0>)\n",
      "Name: all_layers.3.bias | size: torch.Size([512]) | parameters: tensor([-0.0578,  0.0352], device='mps:0', grad_fn=<SliceBackward0>)\n",
      "Name: all_layers.5.weight | size: torch.Size([10, 512]) | parameters: tensor([[-0.0371, -0.0828, -0.0007,  ...,  0.0144, -0.0937,  0.0073],\n",
      "        [ 0.0582, -0.0372,  0.0560,  ..., -0.0901,  0.0640, -0.1718]],\n",
      "       device='mps:0', grad_fn=<SliceBackward0>)\n",
      "Name: all_layers.5.bias | size: torch.Size([10]) | parameters: tensor([0.0370, 0.0206], device='mps:0', grad_fn=<SliceBackward0>)\n"
     ]
    }
   ],
   "source": [
    "for name, para in new_model.named_parameters():\n",
    "    print(f\"Name: {name} | size: {para.size()} | parameters: {para[:2]}\")"
   ]
  },
  {
   "cell_type": "code",
   "execution_count": 152,
   "metadata": {},
   "outputs": [
    {
     "data": {
      "text/plain": [
       "<All keys matched successfully>"
      ]
     },
     "execution_count": 152,
     "metadata": {},
     "output_type": "execute_result"
    }
   ],
   "source": [
    "new_model.load_state_dict(torch.load(\"fashnionmnist_mdl_wts.pth\"))"
   ]
  }
 ],
 "metadata": {
  "kernelspec": {
   "display_name": "django_app",
   "language": "python",
   "name": "python3"
  },
  "language_info": {
   "codemirror_mode": {
    "name": "ipython",
    "version": 3
   },
   "file_extension": ".py",
   "mimetype": "text/x-python",
   "name": "python",
   "nbconvert_exporter": "python",
   "pygments_lexer": "ipython3",
   "version": "3.11.5"
  }
 },
 "nbformat": 4,
 "nbformat_minor": 2
}
